{
 "cells": [
  {
   "cell_type": "markdown",
   "metadata": {},
   "source": [
    "### Universidad del Valle de Guatemala\n",
    "#### Brandon Ronaldo Sicay Cumes - 21757\n",
    "##### Laboratorio 1 - Parte A"
   ]
  },
  {
   "cell_type": "code",
   "execution_count": 1,
   "metadata": {},
   "outputs": [],
   "source": [
    "from caesar import *\n",
    "from afin import *\n",
    "from vigenere import *\n"
   ]
  },
  {
   "cell_type": "markdown",
   "metadata": {},
   "source": [
    "### Caesar"
   ]
  },
  {
   "cell_type": "code",
   "execution_count": 7,
   "metadata": {},
   "outputs": [
    {
     "name": "stdout",
     "output_type": "stream",
     "text": [
      "Mensae: Éste es mi texto, ¿cómo estás?\n",
      "Mensaje cifrado: hvwhhvolwhbwrfrorhvwdv\n",
      "Mensaje descifrado: esteesmitextocomoestas\n"
     ]
    }
   ],
   "source": [
    "ceasar = Ceasar(3)\n",
    "text = \"Éste es mi texto, ¿cómo estás?\"\n",
    "encrypted = ceasar.encrypt(text)\n",
    "decrypted_text = ceasar.c_decrypt(encrypted)\n",
    "\n",
    "print('Mensae:', text)\n",
    "print('Mensaje cifrado:', encrypted)\n",
    "print('Mensaje descifrado:', decrypted_text)"
   ]
  },
  {
   "cell_type": "markdown",
   "metadata": {},
   "source": [
    "### Afín"
   ]
  },
  {
   "cell_type": "code",
   "execution_count": 9,
   "metadata": {},
   "outputs": [
    {
     "name": "stdout",
     "output_type": "stream",
     "text": [
      "Mensaje cifrado: tobtkhlwqphp\n",
      "Mensaje descifrado: textoacifrar\n"
     ]
    }
   ],
   "source": [
    "multiplier = 2\n",
    "offset = 34\n",
    "message = \"¿Texto a CifraR?\"\n",
    "afin = Afin(multiplier, offset)\n",
    "encrypted = afin.encrypt(message)\n",
    "print(\"Mensaje cifrado: \" + encrypted)\n",
    "decrypted = afin.decrypt(encrypted)\n",
    "print(\"Mensaje descifrado: \" + decrypted )\n"
   ]
  },
  {
   "cell_type": "code",
   "execution_count": null,
   "metadata": {},
   "outputs": [],
   "source": []
  }
 ],
 "metadata": {
  "kernelspec": {
   "display_name": ".venv",
   "language": "python",
   "name": "python3"
  },
  "language_info": {
   "codemirror_mode": {
    "name": "ipython",
    "version": 3
   },
   "file_extension": ".py",
   "mimetype": "text/x-python",
   "name": "python",
   "nbconvert_exporter": "python",
   "pygments_lexer": "ipython3",
   "version": "3.13.0"
  }
 },
 "nbformat": 4,
 "nbformat_minor": 2
}
