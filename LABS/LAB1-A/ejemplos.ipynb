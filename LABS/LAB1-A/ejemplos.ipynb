{
 "cells": [
  {
   "cell_type": "markdown",
   "metadata": {},
   "source": [
    "### Universidad del Valle de Guatemala\n",
    "#### Brandon Ronaldo Sicay Cumes - 21757\n",
    "##### Laboratorio 1 - Parte A"
   ]
  },
  {
   "cell_type": "code",
   "execution_count": 1,
   "metadata": {},
   "outputs": [],
   "source": [
    "from caesar import *\n",
    "from afin import *\n",
    "from vigenere import *\n",
    "from frequency import *\n"
   ]
  },
  {
   "cell_type": "markdown",
   "metadata": {},
   "source": [
    "### Caesar"
   ]
  },
  {
   "cell_type": "code",
   "execution_count": 35,
   "metadata": {},
   "outputs": [
    {
     "name": "stdout",
     "output_type": "stream",
     "text": [
      "Mensaje: Éste es mi texto, ¿cómo estás?\n",
      "Mensaje cifrado: hvwhhvolwhbwrfrorhvwdv\n",
      "Mensaje descifrado: esteesmitextocomoestas\n"
     ]
    }
   ],
   "source": [
    "ceasar = Ceasar(3)\n",
    "text = \"Éste es mi texto, ¿cómo estás?\"\n",
    "encrypted = ceasar.encrypt(text)\n",
    "decrypted_text = ceasar.c_decrypt(encrypted)\n",
    "\n",
    "print('Mensaje:', text)\n",
    "print('Mensaje cifrado:', encrypted)\n",
    "print('Mensaje descifrado:', decrypted_text)"
   ]
  },
  {
   "cell_type": "markdown",
   "metadata": {},
   "source": [
    "### Afín"
   ]
  },
  {
   "cell_type": "code",
   "execution_count": 11,
   "metadata": {},
   "outputs": [
    {
     "name": "stdout",
     "output_type": "stream",
     "text": [
      "Mensaje: ¿Texto a CifraR?\n",
      "Mensaje cifrado: tobtkhlwqphp\n",
      "Mensaje descifrado: textoacifrar\n"
     ]
    }
   ],
   "source": [
    "multiplier = 2\n",
    "offset = 34\n",
    "message = \"¿Texto a CifraR?\"\n",
    "afin = Afin(multiplier, offset)\n",
    "encrypted = afin.encrypt(message)\n",
    "print('Mensaje:', message)\n",
    "print(\"Mensaje cifrado: \" + encrypted)\n",
    "decrypted = afin.decrypt(encrypted)\n",
    "print(\"Mensaje descifrado: \" + decrypted )\n"
   ]
  },
  {
   "cell_type": "markdown",
   "metadata": {},
   "source": [
    "### Veginere"
   ]
  },
  {
   "cell_type": "code",
   "execution_count": 17,
   "metadata": {},
   "outputs": [
    {
     "name": "stdout",
     "output_type": "stream",
     "text": [
      "Mensaje cifrado: dcsdtbxbkvigrtglxlapx\n",
      "\n",
      "Mensaje descifrado: unnuevomensajeacifrar\n",
      "\n"
     ]
    }
   ],
   "source": [
    "keyword = \"jpg\"\n",
    "message = \"un NUEVO mensaje a Cífrar\"\n",
    "vigenere = Vigenere(keyword)\n",
    "encrypted = vigenere.encrypt(message)\n",
    "print(\"Mensaje cifrado: \" + encrypted + \"\\n\")\n",
    "decrypted = vigenere.decrypt(encrypted)\n",
    "print(\"Mensaje descifrado: \" + decrypted + \"\\n\")\n"
   ]
  },
  {
   "cell_type": "markdown",
   "metadata": {},
   "source": [
    "### Análisis de frecuencias\n"
   ]
  },
  {
   "cell_type": "code",
   "execution_count": 6,
   "metadata": {},
   "outputs": [
    {
     "name": "stdout",
     "output_type": "stream",
     "text": [
      "{'a': 15.079365079365079, 'b': 1.4041514041514043, 'c': 5.4945054945054945, 'd': 5.555555555555555, 'e': 11.355311355311356, 'f': 0.7936507936507936, 'g': 1.282051282051282, 'h': 0.7936507936507936, 'i': 6.227106227106227, 'j': 0.4884004884004884, 'k': 0.0, 'l': 5.86080586080586, 'm': 2.1367521367521367, 'n': 6.837606837606838, 'ñ': 0.0, 'o': 8.852258852258853, 'p': 2.0757020757020754, 'q': 0.5494505494505495, 'r': 6.95970695970696, 's': 8.608058608058608, 't': 3.907203907203907, 'u': 3.357753357753358, 'v': 1.15995115995116, 'w': 0.0, 'x': 0.0, 'y': 0.6715506715506716, 'z': 0.5494505494505495}\n"
     ]
    },
    {
     "data": {
      "image/png": "[encoded data removed]",
      "text/plain": [
       "<Figure size 640x480 with 1 Axes>"
      ]
     },
     "metadata": {},
     "output_type": "display_data"
    }
   ],
   "source": [
    "text = \"\"\"\n",
    "La aldea de Los Sauces floreció hace siglos cuando un grupo de familias decidió aprovechar las aguas cristalinas de un río cercano para \n",
    "regar sus campos. A medida que crecían las cosechas, la comunidad forjó profundas tradiciones, como el festival anual de la siembra, donde \n",
    "los habitantes danzaban alrededor de una estatua de madera para agradecer a la tierra su generosidad. Este ritual, transmitido de generación\n",
    " en generación, simbolizaba la unión entre la naturaleza y el esfuerzo colectivo. Desde la mañana hasta el ocaso, el pueblo se llenaba de música y color.\n",
    "  Los niños corrían entre las flores mientras los ancianos contaban historias sobre los antepasados, quienes habían atravesado duras épocas de sequía y \n",
    "  tormentas implacables. Gracias a la perseverancia y el trabajo solidario, la aldea prosperó con abundancia de maíz, trigo y frutas de temporada. \n",
    "  Con el tiempo, llegaron comerciantes de regiones lejanas para intercambiar mercancías, enriqueciendo la cultura local con nuevos sabores, \n",
    "  vestimentas y relatos. Sin embargo, no todo fue tranquilidad. En ciertas décadas, plagas inesperadas devastaron los campos y obligaron a \n",
    "  los aldeanos a buscar soluciones creativas. Fue así como la sabiduría de los curanderos y la investigación de los jóvenes estudiosos dieron \n",
    "  origen a prácticas agrícolas novedosas, como la rotación de cultivos y la creación de canales más eficientes. Poco a poco, la aldea volvió a \n",
    "  florecer, demostrando su capacidad de adaptación ante las adversidades. Hoy en día, los descendientes de aquellos pioneros mantienen vivas las\n",
    "   costumbres, honrando el legado de la tierra. Cada temporada, viajeros curiosos se acercan para conocer las historias grabadas en los muros de\n",
    "    piedra que rodean la plaza principal. Al escuchar los cantos tradicionales, muchos sienten el latido ancestral de una comunidad que, pese a \n",
    "    los retos, nunca ha dejado de creer en la fuerza que surge cuando las manos trabajan juntas y el corazón permanece abierto a la esperanza.\n",
    "\"\"\"\n",
    "\n",
    "frequencies = calcular_distribucion(text)\n",
    "print(frequencies)\n",
    "\n",
    "crear_histograma(frequencies)"
   ]
  }
 ],
 "metadata": {
  "kernelspec": {
   "display_name": ".venv",
   "language": "python",
   "name": "python3"
  },
  "language_info": {
   "codemirror_mode": {
    "name": "ipython",
    "version": 3
   },
   "file_extension": ".py",
   "mimetype": "text/x-python",
   "name": "python",
   "nbconvert_exporter": "python",
   "pygments_lexer": "ipython3",
   "version": "3.13.2"
  }
 },
 "nbformat": 4,
 "nbformat_minor": 2
}
