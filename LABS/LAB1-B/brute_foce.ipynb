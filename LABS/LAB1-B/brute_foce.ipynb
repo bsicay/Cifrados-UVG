{
 "cells": [
  {
   "cell_type": "markdown",
   "metadata": {},
   "source": [
    "### Universidad del Valle de Guatemala\n",
    "#### Brandon Ronaldo Sicay Cumes - 21757\n",
    "##### Laboratorio 1 - Parte A"
   ]
  },
  {
   "cell_type": "code",
   "execution_count": 5,
   "metadata": {},
   "outputs": [],
   "source": [
    "# CHAT GPT-03-MINI-HIGH: https://chatgpt.com/c/679043bd-6990-800f-8b61-e48f1ddf164c\n",
    "\n",
    "import unicodedata\n",
    "import matplotlib.pyplot as plt\n",
    "import itertools\n"
   ]
  },
  {
   "cell_type": "code",
   "execution_count": 6,
   "metadata": {},
   "outputs": [],
   "source": [
    "from programs.caesar import Ceasar\n",
    "from programs.afin import Afin\n",
    "from programs.vigenere import Vigenere\n",
    "from programs.frequency import *"
   ]
  },
  {
   "cell_type": "code",
   "execution_count": 4,
   "metadata": {},
   "outputs": [],
   "source": [
    "sp_frequencies = {\n",
    "  \"a\": 0.11525,\n",
    "  \"b\": 0.02215,\n",
    "  \"c\": 0.04019,\n",
    "  \"d\": 0.05010,\n",
    "  \"e\": 0.12181,\n",
    "  \"f\": 0.00692,\n",
    "  \"g\": 0.01768,\n",
    "  \"h\": 0.00703,\n",
    "  \"i\": 0.06247,\n",
    "  \"j\": 0.00493,\n",
    "  \"k\": 0.00011,\n",
    "  \"l\": 0.04967,\n",
    "  \"m\": 0.03157,\n",
    "  \"n\": 0.06712,\n",
    "  \"o\": 0.08683,\n",
    "  \"p\": 0.02510,\n",
    "  \"q\": 0.00877,\n",
    "  \"r\": 0.06871,\n",
    "  \"s\": 0.07977,\n",
    "  \"t\": 0.04632,\n",
    "  \"u\": 0.02927,\n",
    "  \"v\": 0.01138,\n",
    "  \"w\": 0.00017,\n",
    "  \"x\": 0.00215,\n",
    "  \"y\": 0.01008,\n",
    "  \"z\": 0.00467,\n",
    "  \"á\": 0.00502,\n",
    "  \"é\": 0.00433,\n",
    "  \"í\": 0.00725,\n",
    "  \"ñ\": 0.00311,\n",
    "  \"ó\": 0.00827,\n",
    "  \"ú\": 0.00168,\n",
    "  \"ü\": 0.00012\n",
    "}"
   ]
  },
  {
   "cell_type": "code",
   "execution_count": 11,
   "metadata": {},
   "outputs": [],
   "source": [
    "def distribution_distance(dist_test, dist_ref):\n",
    "    \"\"\"\n",
    "    Retorna una 'distancia' entre dos distribuciones.\n",
    "    A menor valor, mayor similitud.\n",
    "    \"\"\"\n",
    "    distance = 0.0\n",
    "    # Iterar sobre las letras que tengamos en la referencia\n",
    "    for letter, ref_val in dist_ref.items():\n",
    "        test_val = dist_test.get(letter, 0.0)\n",
    "        distance += (test_val - ref_val)**2\n",
    "    return distance\n"
   ]
  },
  {
   "cell_type": "markdown",
   "metadata": {},
   "source": [
    "### Brute Force Caesar"
   ]
  },
  {
   "cell_type": "code",
   "execution_count": 21,
   "metadata": {},
   "outputs": [],
   "source": [
    "# def brute_force_cesar(distribuciones, probabilidad_real, mensaje_cifrado):\n",
    "#     letras = 'abcdefghijklmnñopqrstuvwxyz'\n",
    "#     letra_mas_frecuente_dist = max(distribuciones, key=distribuciones.get)\n",
    "#     letra_mas_frecuente_real = max(probabilidad_real, key=probabilidad_real.get)\n",
    "\n",
    "#     desplazamiento_inicial = (letras.index(letra_mas_frecuente_real) - letras.index(letra_mas_frecuente_dist)) % len(letras)\n",
    "#     print(f\"Desplazamiento inicial: {desplazamiento_inicial}\")\n",
    "#     indice_inicial = letras[letras.index(letra_mas_frecuente_real) - desplazamiento_inicial]\n",
    "\n",
    "#     # Probando desplazamientos a partir del desplazamiento inicial\n",
    "#     with open('ceasar.txt', 'w', encoding='utf-8') as file:\n",
    "#         for i in range(31):\n",
    "#             desplazamiento_actual = (desplazamiento_inicial + i) % len(letras)\n",
    "#             cesar = Ceasar(desplazamiento_actual)\n",
    "#             mensaje_descifrado = cesar.c_decrypt(mensaje_cifrado)\n",
    "#             file.write(f\"Desplazamiento: {desplazamiento_actual} - Mensaje: {mensaje_descifrado}\\n\")\n",
    "\n",
    "\n",
    "def brute_force_cesar(mensaje_cifrado, sp_frequencies):\n",
    "    \"\"\"\n",
    "    Prueba todas las llaves (0..30) para el cifrado César con el alfabeto \n",
    "    'abcdefghijklmnñopqrstuvwxyz'. \n",
    "    Calcula la distancia de cada desencriptado respecto a las frecuencias \n",
    "    del español y retorna los resultados ordenados.\n",
    "    \"\"\"\n",
    "    alfabeto = 'abcdefghijklmnñopqrstuvwxyz'\n",
    "    resultados = []\n",
    "\n",
    "    for key in range(31):  # 0..30\n",
    "        # Instancia de Ceasar con la clave 'key'\n",
    "        cesar = Ceasar(key)\n",
    "        mensaje_descifrado = cesar.c_decrypt(mensaje_cifrado)\n",
    "        \n",
    "        # Calculamos la distribución de este texto desencriptado\n",
    "        dist_descifrado = calcular_distribucion(mensaje_descifrado)\n",
    "        \n",
    "        # Calculamos la distancia\n",
    "        dist_medida = distribution_distance(dist_descifrado, sp_frequencies)\n",
    "        \n",
    "        resultados.append((key, dist_medida, mensaje_descifrado))\n",
    "    \n",
    "    # Ordenar por la distancia (menor distancia = mejor similitud)\n",
    "    resultados.sort(key=lambda x: x[1])\n",
    "    \n",
    "    return resultados"
   ]
  },
  {
   "cell_type": "code",
   "execution_count": 23,
   "metadata": {},
   "outputs": [
    {
     "name": "stdout",
     "output_type": "stream",
     "text": [
      "Las 5 claves más probables:\n",
      "Key: 23, Dist: 767.065842, Decifrado: nnuestrolaberintodigitalenconstanteevolucionlaagilidadcripto...\n",
      "Key: 0, Dist: 772.114598, Decifrado: jjqaopñlhwxañejplzecepwhajyljopwjpaarlhqyeljhwwcehezwzyñempl...\n",
      "Key: 27, Dist: 772.114598, Decifrado: jjqaopñlhwxañejplzecepwhajyljopwjpaarlhqyeljhwwcehezwzyñempl...\n",
      "Key: 19, Dist: 772.265850, Decifrado: qqyiwxvsoefivmqxshmkmxeoiqgsqwxeqxiizsoygmsqoeekmomhehgvmtxs...\n",
      "Key: 8, Dist: 772.375168, Decifrado: bbjshigdzopsgwbidrwuwiozsbqdbhiobisskdzjqwdbzoouwzwrorqgweid...\n"
     ]
    }
   ],
   "source": [
    "# ceasar_encrypted = ''\n",
    "# with open('./cipher/ceasar.txt', 'r', encoding='utf-8') as archivo:\n",
    "#             ceasar_encrypted = archivo.read()\n",
    "\n",
    "# distribuciones = calcular_distribucion(ceasar_encrypted)\n",
    "# brute_force_cesar(distribuciones, sp_frequencies, ceasar_encrypted)\n",
    "\n",
    "\n",
    "with open('cipher/ceasar.txt', 'r', encoding='utf-8') as archivo:\n",
    "    ceasar_encrypted = archivo.read()\n",
    "    \n",
    "# Ejecutar la fuerza bruta\n",
    "resultados_ordenados = brute_force_cesar(ceasar_encrypted, sp_frequencies)\n",
    "\n",
    "# Guardar (o imprimir) los resultados del mejor al peor\n",
    "with open('ceasar_resultados.txt', 'w', encoding='utf-8') as file:\n",
    "    for key, dist_val, msg in resultados_ordenados:\n",
    "        linea = f\"Desplazamiento: {key} | Distancia: {dist_val:.6f} | Mensaje: {msg}\\n\"\n",
    "        file.write(linea)\n",
    "\n",
    "# O bien, imprimir en pantalla solo las mejores 5 claves:\n",
    "print(\"Las 5 claves más probables:\")\n",
    "for key, dist_val, msg in resultados_ordenados[:5]:\n",
    "    print(f\"Key: {key}, Dist: {dist_val:.6f}, Decifrado: {msg[:60]}...\")    "
   ]
  },
  {
   "cell_type": "markdown",
   "metadata": {},
   "source": [
    "### Afín"
   ]
  },
  {
   "cell_type": "markdown",
   "metadata": {},
   "source": [
    "Número a = Rango del 1-16\n",
    "Número b = Rango del 1-16\n",
    "Texto contiene: extraer de los ataques"
   ]
  },
  {
   "cell_type": "code",
   "execution_count": 24,
   "metadata": {},
   "outputs": [],
   "source": [
    "def brute_force_afin(mensaje_cifrado, sp_frequencies):\n",
    "    \"\"\"\n",
    "    Recorre todas las posibles claves a=1..16, b=1..16.\n",
    "    Desencripta, calcula la distribución y la compara con \n",
    "    las frecuencias del español (sp_frequencies).\n",
    "    Retorna una lista de tuplas (a, b, distancia, mensaje_descifrado) ordenada.\n",
    "    \"\"\"\n",
    "    resultados = []\n",
    "    \n",
    "    # Recorremos todos los a=1..16, b=1..16\n",
    "    for a in range(1,17):\n",
    "        for b in range(1,17):\n",
    "            try:\n",
    "                cipher_afin = Afin(a, b)\n",
    "                mensaje_descifrado = cipher_afin.decrypt(mensaje_cifrado)\n",
    "                \n",
    "                # Calcular la distribución y la distancia\n",
    "                dist_descifrado = calcular_distribucion(mensaje_descifrado)\n",
    "                dist_val = distribution_distance(dist_descifrado, sp_frequencies)\n",
    "                \n",
    "                resultados.append((a, b, dist_val, mensaje_descifrado))\n",
    "            \n",
    "            except:\n",
    "                # Si gcd(a, 27)!=1 o surge algún otro error, lo ignoramos\n",
    "                pass\n",
    "    \n",
    "    # Ordenar por la distancia (menor = mejor)\n",
    "    resultados.sort(key=lambda x: x[2])\n",
    "    return resultados\n"
   ]
  },
  {
   "cell_type": "code",
   "execution_count": 25,
   "metadata": {},
   "outputs": [
    {
     "name": "stdout",
     "output_type": "stream",
     "text": [
      "Las 5 claves más probables para el cifrado afín:\n",
      "[a=5, b=15] Dist=731.463758, Decifrado => nejemplodelanecesidaddecriptoagilidadsepuedeextraerdelosataq...\n",
      "[a=14, b=15] Dist=734.965461, Decifrado => vnjnmycodncavntnbzdaddntrzyloagzczdadbnyundnnxlranrdncobalai...\n",
      "[a=4, b=8] Dist=735.616265, Decifrado => ranakochsacvralamfsvssalefothvpfcfsvsmaobasaaytevaesachmvtvw...\n",
      "[a=11, b=15] Dist=735.631037, Decifrado => bsjsdvfxusfabswspluauuswrlvñxaolfluaupsvmsussgñrasrusfxpañat...\n",
      "[a=13, b=3] Dist=735.796259, Decifrado => iquqrfboaqbdiqkqceadaaqkmefsodxebeadacqfjqaqqgsmdqmaqbocdsdv...\n"
     ]
    }
   ],
   "source": [
    "with open('./cipher/afines.txt', 'r', encoding='utf-8') as archivo:\n",
    "    afin_encrypted = archivo.read()\n",
    "\n",
    "# Llamar a la fuerza bruta\n",
    "resultados_afin = brute_force_afin(afin_encrypted, sp_frequencies)\n",
    "\n",
    "# Guardar todos en un archivo\n",
    "with open('afin_resultados.txt', 'w', encoding='utf-8') as f:\n",
    "    for (a, b, dist_val, msg_descifrado) in resultados_afin:\n",
    "        linea = (f\"a={a}, b={b}, dist={dist_val:.6f}, \"\n",
    "                    f\"descifrado={msg_descifrado}\\n\")\n",
    "        f.write(linea)\n",
    "\n",
    "# Mostrar los 5 mejores en consola\n",
    "print(\"Las 5 claves más probables para el cifrado afín:\")\n",
    "for (a, b, dist_val, msg_descifrado) in resultados_afin[:5]:\n",
    "    print(f\"[a={a}, b={b}] Dist={dist_val:.6f}, Decifrado => {msg_descifrado[:60]}...\")"
   ]
  },
  {
   "cell_type": "markdown",
   "metadata": {},
   "source": [
    "### Veginere"
   ]
  },
  {
   "cell_type": "code",
   "execution_count": 12,
   "metadata": {},
   "outputs": [],
   "source": [
    "import itertools\n",
    "\n",
    "def brute_force_vigenere(mensaje_cifrado, sp_frequencies, output_file='vigenere_resultados.txt'):\n",
    "    \"\"\"\n",
    "    Busca claves de longitud 2..6 que INICIEN con 'pa'.\n",
    "    Para cada clave, desencripta, calcula la distancia de frecuencias\n",
    "\n",
    "    \"\"\"\n",
    "    alfabeto = 'abcdefghijklmnñopqrstuvwxyz'\n",
    "    resultados = []\n",
    "\n",
    "    # Recorremos la longitud de clave de 2 a 6\n",
    "    for key_length in range(2, 7):\n",
    "        # Caso especial: si key_length = 2, la clave es 'pa' sin más\n",
    "        if key_length == 2:\n",
    "            clave = 'pa'\n",
    "            vigenere_cipher = Vigenere(clave)\n",
    "            descifrado = vigenere_cipher.decrypt(mensaje_cifrado)\n",
    "\n",
    "            dist_test = calcular_distribucion(descifrado)\n",
    "            dist_val = distribution_distance(dist_test, sp_frequencies)\n",
    "            resultados.append((clave, dist_val, descifrado))\n",
    "        \n",
    "        else:\n",
    "            # Para key_length > 2, generamos las letras faltantes\n",
    "            # (key_length - 2) posiciones por llenar\n",
    "            for comb in itertools.product(alfabeto, repeat=key_length - 2):\n",
    "                # 'pa' + el resto\n",
    "                clave = 'pa' + ''.join(comb)\n",
    "                vigenere_cipher = Vigenere(clave)\n",
    "                descifrado = vigenere_cipher.decrypt(mensaje_cifrado)\n",
    "\n",
    "                dist_test = calcular_distribucion(descifrado)\n",
    "                dist_val = distribution_distance(dist_test, sp_frequencies)\n",
    "\n",
    "                resultados.append((clave, dist_val, descifrado))\n",
    "    \n",
    "    # Ordenar por distancia (menor = mejor)\n",
    "    resultados.sort(key=lambda x: x[1], reverse=True)\n",
    "\n",
    "    \n",
    "    # Guardar todos en un archivo\n",
    "    with open(output_file, 'w', encoding='utf-8') as f:\n",
    "        for (clave, dist_val, msg) in resultados:\n",
    "            f.write(f\"Clave={clave}, Distancia={dist_val:.6f}, Descifrado={msg}\\n\")\n",
    "    \n",
    "    return resultados\n"
   ]
  },
  {
   "cell_type": "code",
   "execution_count": 13,
   "metadata": {},
   "outputs": [
    {
     "name": "stdout",
     "output_type": "stream",
     "text": [
      "Las 5 claves más probables para Vigenère con prefijo 'pa':\n",
      "Clave=payaso, Dist=737.419479, Mensaje => aunqueelerrorheartbleedsehasolucionadosiemprehayunanuevaamen...\n",
      "Clave=payaho, Dist=683.641114, Mensaje => aunqgeelerdorheadtbleeosehasalucioyadosipmprehmyunangevaampn...\n",
      "Clave=paypso, Dist=680.403447, Mensaje => aunbueelecrorhelrtbleodsehadoluciznadossemprerayunaxuevaawen...\n",
      "Clave=payaio, Dist=679.055436, Mensaje => aunqfeelercorheactbleeñsehaszlucioxadosiomprehlyunanfevaamon...\n",
      "Clave=payado, Dist=676.891776, Mensaje => aunqkeelerhorheahtbleessehaseluciocadositmprehpyunankevaamtn...\n"
     ]
    }
   ],
   "source": [
    "with open('./cipher/vigenere.txt', 'r', encoding='utf-8') as archivo:\n",
    "    vigenere_encrypted = archivo.read()\n",
    "\n",
    "# Ejecutar fuerza bruta\n",
    "resultados_ordenados = brute_force_vigenere(vigenere_encrypted, sp_frequencies)\n",
    "\n",
    "print(\"Las 5 claves más probables para Vigenère con prefijo 'pa':\")\n",
    "for (clave, dist_val, descifrado) in resultados_ordenados[:5]:\n",
    "    print(f\"Clave={clave}, Dist={dist_val:.6f}, Mensaje => {descifrado[:60]}...\")"
   ]
  }
 ],
 "metadata": {
  "kernelspec": {
   "display_name": ".venv",
   "language": "python",
   "name": "python3"
  },
  "language_info": {
   "codemirror_mode": {
    "name": "ipython",
    "version": 3
   },
   "file_extension": ".py",
   "mimetype": "text/x-python",
   "name": "python",
   "nbconvert_exporter": "python",
   "pygments_lexer": "ipython3",
   "version": "3.13.0"
  }
 },
 "nbformat": 4,
 "nbformat_minor": 2
}
