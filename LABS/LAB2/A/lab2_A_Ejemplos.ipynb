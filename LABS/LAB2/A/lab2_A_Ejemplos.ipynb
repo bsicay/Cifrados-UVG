{
 "cells": [
  {
   "cell_type": "markdown",
   "metadata": {},
   "source": [
    "### Universidad del Valle de Guatemala\n",
    "#### Brandon Ronaldo Sicay Cumes - 21757\n",
    "\n",
    "repositorio: https://github.com/bsicay/Cifrados-UVG/tree/main/LABS/LAB2/A\n"
   ]
  },
  {
   "cell_type": "markdown",
   "metadata": {},
   "source": [
    "#### **Convertir una cadena de caracteres a bits.**\n"
   ]
  },
  {
   "cell_type": "code",
   "execution_count": 1,
   "metadata": {},
   "outputs": [],
   "source": [
    "from ascii_to_bin import *\n",
    "from bin_to_ascii import *\n",
    "from ascii_to_base64 import ascii_to_base64\n",
    "from base64_to_ascii import *\n",
    "from xor import xor_ascii, xor_binary"
   ]
  },
  {
   "cell_type": "code",
   "execution_count": 2,
   "metadata": {},
   "outputs": [
    {
     "name": "stdout",
     "output_type": "stream",
     "text": [
      "Texto ASCII  : hola\n",
      "Binario      : 01101000011011110110110001100001\n"
     ]
    }
   ],
   "source": [
    "mensaje = 'hola'\n",
    "resultado = ascii_to_bin(mensaje)\n",
    "print(f\"Texto ASCII  : {mensaje}\")\n",
    "print(f\"Binario      : {resultado}\")"
   ]
  },
  {
   "cell_type": "code",
   "execution_count": 3,
   "metadata": {},
   "outputs": [
    {
     "name": "stdout",
     "output_type": "stream",
     "text": [
      "Texto ASCII  : como estas\n",
      "Binario      : 01100011011011110110110101101111001000000110010101110011011101000110000101110011\n"
     ]
    }
   ],
   "source": [
    "mensaje = 'como estas'\n",
    "resultado = ascii_to_bin(mensaje)\n",
    "print(f\"Texto ASCII  : {mensaje}\")\n",
    "print(f\"Binario      : {resultado}\")"
   ]
  },
  {
   "cell_type": "markdown",
   "metadata": {},
   "source": [
    "#### **Convertir una cadena de bytes a caracteres**"
   ]
  },
  {
   "cell_type": "code",
   "execution_count": 5,
   "metadata": {},
   "outputs": [
    {
     "name": "stdout",
     "output_type": "stream",
     "text": [
      "Binario: 01101000011011110110110001100001\n",
      "Texto ASCII   hola\n"
     ]
    }
   ],
   "source": [
    "binaryOne = '01101000011011110110110001100001'\n",
    "resultado_ascii = binary_to_ascii(binaryOne)\n",
    "print(f\"Binario: {binaryOne}\")\n",
    "print(f\"Texto ASCII   {resultado_ascii}\")\n"
   ]
  },
  {
   "cell_type": "code",
   "execution_count": 6,
   "metadata": {},
   "outputs": [
    {
     "name": "stdout",
     "output_type": "stream",
     "text": [
      "Binario: 01100011011011110110110101101111001000000110010101110011011101000110000101110011\n",
      "Texto ASCII   como estas\n"
     ]
    }
   ],
   "source": [
    "binaryOne = '01100011011011110110110101101111001000000110010101110011011101000110000101110011'\n",
    "resultado_ascii = binary_to_ascii(binaryOne)\n",
    "print(f\"Binario: {binaryOne}\")\n",
    "print(f\"Texto ASCII   {resultado_ascii}\")\n"
   ]
  },
  {
   "cell_type": "markdown",
   "metadata": {},
   "source": [
    "#### **Convertir una cadena de caracteres a Base64**"
   ]
  },
  {
   "cell_type": "code",
   "execution_count": 13,
   "metadata": {},
   "outputs": [
    {
     "name": "stdout",
     "output_type": "stream",
     "text": [
      "ASCII: un nuevo texto\n",
      "Texto Base64   dW4gbnVldm8gdGV4dG8=\n"
     ]
    }
   ],
   "source": [
    "ascii_text = 'un nuevo texto'\n",
    "base64_text = ascii_to_base64(ascii_text)\n",
    "print(f\"ASCII: {ascii_text}\")\n",
    "print(f\"Texto Base64   {base64_text}\")"
   ]
  },
  {
   "cell_type": "code",
   "execution_count": 14,
   "metadata": {},
   "outputs": [
    {
     "name": "stdout",
     "output_type": "stream",
     "text": [
      "ASCII: Ciencias de la Computacion\n",
      "Texto Base64   Q2llbmNpYXMgZGUgbGEgQ29tcHV0YWNpb24=\n"
     ]
    }
   ],
   "source": [
    "ascii_text = 'Ciencias de la Computacion'\n",
    "base64_text = ascii_to_base64(ascii_text)\n",
    "print(f\"ASCII: {ascii_text}\")\n",
    "print(f\"Texto Base64   {base64_text}\")"
   ]
  },
  {
   "cell_type": "markdown",
   "metadata": {},
   "source": [
    "#### **Convertir una cadena de base 64 a su texto**"
   ]
  },
  {
   "cell_type": "code",
   "execution_count": 19,
   "metadata": {},
   "outputs": [
    {
     "name": "stdout",
     "output_type": "stream",
     "text": [
      "Base64: dW4gbnVldm8gdGV4dG8=\n",
      "Texto ASCII   un nuevo texto\n"
     ]
    }
   ],
   "source": [
    "base64 = 'dW4gbnVldm8gdGV4dG8='\n",
    "ascii_result = base64_to_ascii(base64)\n",
    "print(f\"Base64: {base64}\")\n",
    "print(f\"Texto ASCII   {ascii_result}\")"
   ]
  },
  {
   "cell_type": "code",
   "execution_count": 20,
   "metadata": {},
   "outputs": [
    {
     "name": "stdout",
     "output_type": "stream",
     "text": [
      "Base64: Q2llbmNpYXMgZGUgbGEgQ29tcHV0YWNpb24=\n",
      "Texto ASCII   Ciencias de la Computacion\n"
     ]
    }
   ],
   "source": [
    "base64 = 'Q2llbmNpYXMgZGUgbGEgQ29tcHV0YWNpb24='\n",
    "ascii_result = base64_to_ascii(base64)\n",
    "print(f\"Base64: {base64}\")\n",
    "print(f\"Texto ASCII   {ascii_result}\")"
   ]
  },
  {
   "cell_type": "markdown",
   "metadata": {},
   "source": [
    "#### **Operación XOR, bit a bit, con dos cadenas de texto**"
   ]
  },
  {
   "cell_type": "code",
   "execution_count": 6,
   "metadata": {},
   "outputs": [
    {
     "name": "stdout",
     "output_type": "stream",
     "text": [
      "Cipher   011011100111010101100101011101100110111100100000011011010110010101101110011100110110000101101010011001010101000000010010000101100001000000000101000010100000011000001011\n"
     ]
    }
   ],
   "source": [
    "message = 'nuevo mensaje secreto'\n",
    "key = 'password'\n",
    "resultXor = xor_ascii(one, two) \n",
    "print(f\"Cipher   {resultXor}\")"
   ]
  },
  {
   "cell_type": "code",
   "execution_count": 7,
   "metadata": {},
   "outputs": [
    {
     "name": "stdout",
     "output_type": "stream",
     "text": [
      "Cipher   nuevo mensaje secreto\n"
     ]
    }
   ],
   "source": [
    "resultX = xor_binary(resultXor, ascii_to_bin(key)) \n",
    "print(f\"Cipher   {binary_to_ascii(resultX)}\")"
   ]
  }
 ],
 "metadata": {
  "kernelspec": {
   "display_name": ".venv",
   "language": "python",
   "name": "python3"
  },
  "language_info": {
   "codemirror_mode": {
    "name": "ipython",
    "version": 3
   },
   "file_extension": ".py",
   "mimetype": "text/x-python",
   "name": "python",
   "nbconvert_exporter": "python",
   "pygments_lexer": "ipython3",
   "version": "3.13.0"
  }
 },
 "nbformat": 4,
 "nbformat_minor": 2
}
