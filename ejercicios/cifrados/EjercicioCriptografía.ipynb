{
 "cells": [
  {
   "cell_type": "markdown",
   "metadata": {},
   "source": [
    "### Universidad del Valle de Guatemala\n",
    "#### Brandon Ronaldo Sicay Cumes - 21757"
   ]
  },
  {
   "cell_type": "markdown",
   "metadata": {},
   "source": [
    "Para todos los ejemplos, se utilizó el texto, \"hola\""
   ]
  },
  {
   "cell_type": "markdown",
   "metadata": {},
   "source": [
    "#### **ASCII a BINARIO**\n"
   ]
  },
  {
   "cell_type": "code",
   "execution_count": 2,
   "metadata": {},
   "outputs": [
    {
     "name": "stdout",
     "output_type": "stream",
     "text": [
      "Texto ASCII  : hola\n",
      "Binario      : 01101000011011110110110001100001\n"
     ]
    }
   ],
   "source": [
    "def ascii_to_bin(texto):\n",
    "\n",
    "    binario = ''.join(format(ord(c), '08b') for c in texto)\n",
    "    return binario\n",
    "\n",
    "if __name__ == \"__main__\":\n",
    "    mensaje = 'hola'\n",
    "    resultado = ascii_to_bin(mensaje)\n",
    "    print(f\"Texto ASCII  : {mensaje}\")\n",
    "    print(f\"Binario      : {resultado}\")"
   ]
  },
  {
   "cell_type": "markdown",
   "metadata": {},
   "source": [
    "#### **BASE64 a BINARIO**"
   ]
  },
  {
   "cell_type": "code",
   "execution_count": 4,
   "metadata": {},
   "outputs": [
    {
     "name": "stdout",
     "output_type": "stream",
     "text": [
      "Base64: aG9sYQ==\n",
      "Binario (bits): 011010000110111101101100011000010000\n"
     ]
    }
   ],
   "source": [
    "def base64_to_binary(b64_string):\n",
    "    base64_chars = \"ABCDEFGHIJKLMNOPQRSTUVWXYZabcdefghijklmnopqrstuvwxyz0123456789+/\"\n",
    "    \n",
    "    padding_count = b64_string.count('=')\n",
    "    \n",
    "    # Eliminar los '=' para poder mapear los caracteres a bits\n",
    "    b64_string = b64_string.replace('=', '')\n",
    "    \n",
    "    # 1) Convertir cada carácter Base64 en 6 bits\n",
    "    bit_string = \"\"\n",
    "    for ch in b64_string:\n",
    "        val_6_bits = base64_chars.index(ch)\n",
    "        # Convertirlo a binario de 6 bits y concatenar\n",
    "        bit_string += f\"{val_6_bits:06b}\"\n",
    "\n",
    "    return bit_string\n",
    "\n",
    "if __name__ == \"__main__\":\n",
    "    entrada_base64 = \"aG9sYQ==\"  # \"hola\"\n",
    "    resultado_binario = base64_to_binary(entrada_base64)\n",
    "    print(f\"Base64: {entrada_base64}\")\n",
    "    print(f\"Binario (bits): {resultado_binario}\")\n",
    "    \n"
   ]
  },
  {
   "cell_type": "markdown",
   "metadata": {},
   "source": [
    "#### **BINARIO a BASE64**"
   ]
  },
  {
   "cell_type": "code",
   "execution_count": 5,
   "metadata": {},
   "outputs": [
    {
     "name": "stdout",
     "output_type": "stream",
     "text": [
      "Binario  : 01101000011011110110110001100001\n",
      "Base64   : aG9sYQ==\n"
     ]
    }
   ],
   "source": [
    "def bin_to_base64(binary_str):\n",
    "\n",
    "    base64_chars = \"ABCDEFGHIJKLMNOPQRSTUVWXYZabcdefghijklmnopqrstuvwxyz0123456789+/\"\n",
    "    \n",
    "    # Ajustar la longitud del binario a múltiplo de 6 (padding con '0' si sobra)\n",
    "    length = len(binary_str)\n",
    "    remainder = length % 6\n",
    "    \n",
    "    if remainder != 0:\n",
    "        padding_bits = 6 - remainder\n",
    "        binary_str += '0' * padding_bits\n",
    "    else:\n",
    "        padding_bits = 0\n",
    "    \n",
    "    # Dividir en grupos de 6 bits\n",
    "    base64_encoded = []\n",
    "    for i in range(0, len(binary_str), 6):\n",
    "        chunk_6 = binary_str[i:i+6]\n",
    "        decimal_val = int(chunk_6, 2)\n",
    "        base64_encoded.append(base64_chars[decimal_val])\n",
    "    \n",
    "    # Asegurar que la salida sea múltiplo de 4 caracteres, añadiendo '='\n",
    "    \n",
    "    encoded_str = ''.join(base64_encoded)\n",
    "    base64_len = len(encoded_str) % 4\n",
    "    \n",
    "    if base64_len != 0:\n",
    "        # número de '=' necesario para completar un múltiplo de 4\n",
    "        encoded_str += '=' * (4 - base64_len)\n",
    "    \n",
    "    return encoded_str\n",
    "\n",
    "if __name__ == \"__main__\":\n",
    "    bin_hola = \"01101000011011110110110001100001\"\n",
    "    \n",
    "    resultado = bin_to_base64(bin_hola)\n",
    "    print(\"Binario  :\", bin_hola)\n",
    "    print(\"Base64   :\", resultado)\n",
    "    # \"SG9sYQ==\"\n"
   ]
  },
  {
   "cell_type": "markdown",
   "metadata": {},
   "source": [
    "#### **BINARIO a ASCII**"
   ]
  },
  {
   "cell_type": "code",
   "execution_count": 8,
   "metadata": {},
   "outputs": [
    {
     "name": "stdout",
     "output_type": "stream",
     "text": [
      "Texto en ASCII: hola\n"
     ]
    }
   ],
   "source": [
    "def binary_to_ascii(binary_text):\n",
    "    ascii_result = ''\n",
    "\n",
    "    # Validar que la longitud del texto binario sea un múltiplo de 8\n",
    "    if len(binary_text) % 8 != 0:\n",
    "        # Calcular cuántos ceros se necesitan\n",
    "        padding_needed = 8 - (len(binary_text) % 8)\n",
    "        binary_text = '0' * padding_needed + binary_text\n",
    "\n",
    "    # Dividir el texto binario en grupos de 8 bits\n",
    "    for i in range(0, len(binary_text), 8):\n",
    "        binary_chunk = binary_text[i:i + 8]\n",
    "        decimal_value = int(binary_chunk, 2)\n",
    "        ascii_result += chr(decimal_value)\n",
    "\n",
    "    return ascii_result\n",
    "\n",
    "if __name__ == \"__main__\":\n",
    "    binary_text = '01101000011011110110110001100001'\n",
    "    try:\n",
    "        ascii_output = binary_to_ascii(binary_text)\n",
    "        print(f\"Texto en ASCII: {ascii_output}\")\n",
    "    except Exception as e:\n",
    "        print(f\"Error: {e}\")"
   ]
  },
  {
   "cell_type": "markdown",
   "metadata": {},
   "source": [
    "#### **BASE64 a ASCII**"
   ]
  },
  {
   "cell_type": "code",
   "execution_count": 9,
   "metadata": {},
   "outputs": [
    {
     "name": "stdout",
     "output_type": "stream",
     "text": [
      "Base64: aG9sYQ==  -->  ASCII: 'hola'\n"
     ]
    }
   ],
   "source": [
    "def base64_to_ascii(b64_string):\n",
    "    base64_chars = \"ABCDEFGHIJKLMNOPQRSTUVWXYZabcdefghijklmnopqrstuvwxyz0123456789+/\"\n",
    "    \n",
    "    # Contar cuántos '=' hay al final\n",
    "    padding_count = b64_string.count('=')\n",
    "    \n",
    "    # Quitar los '=' del string antes de procesar\n",
    "    b64_string = b64_string.replace('=', '')\n",
    "    \n",
    "    # Convertir cada carácter base64 en sus 6 bits correspondientes\n",
    "    bit_string = \"\"\n",
    "    for ch in b64_string:\n",
    "        val_6_bits = base64_chars.index(ch)  # índice entre 0 y 63\n",
    "        bit_string += f\"{val_6_bits:06b}\"    # 6 bits por carácter base64\n",
    "    \n",
    "    bits_to_remove = 2 * padding_count\n",
    "    if bits_to_remove > 0:\n",
    "        bit_string = bit_string[:-bits_to_remove]\n",
    "    \n",
    "    # Convertir los bits restantes en caracteres ASCII (en grupos de 8 bits)\n",
    "    ascii_text = \"\"\n",
    "    for i in range(0, len(bit_string), 8):\n",
    "        byte = bit_string[i:i+8]\n",
    "        if len(byte) < 8:\n",
    "            break\n",
    "        ascii_text += chr(int(byte, 2))\n",
    "    \n",
    "    return ascii_text\n",
    "\n",
    "\n",
    "sentrada_base64 = \"aG9sYQ==\"\n",
    "resultado = base64_to_ascii(entrada_base64)\n",
    "print(f\"Base64: {entrada_base64}  -->  ASCII: '{resultado}'\") \n"
   ]
  },
  {
   "cell_type": "markdown",
   "metadata": {},
   "source": [
    "#### **XOR a un BINARIO**"
   ]
  },
  {
   "cell_type": "code",
   "execution_count": 10,
   "metadata": {},
   "outputs": [
    {
     "name": "stdout",
     "output_type": "stream",
     "text": [
      "Binario1 : 1010\n",
      "Binario2 : 1100\n",
      "XOR      : 0110\n"
     ]
    }
   ],
   "source": [
    "def xor_binary(binario1, binario2):\n",
    "    \"\"\"\n",
    "    Aplica la operación XOR entre dos cadenas binarias de la misma longitud.\n",
    "    Retorna una nueva cadena binaria resultado de binario1 XOR binario2.\n",
    "    \"\"\"\n",
    "    if len(binario1) != len(binario2):\n",
    "        raise ValueError(\"Las cadenas binarias deben tener la misma longitud.\")\n",
    "    \n",
    "    resultado = []\n",
    "    for b1, b2 in zip(binario1, binario2):\n",
    "        # XOR bit a bit\n",
    "        xor_bit = str(int(b1) ^ int(b2))\n",
    "        resultado.append(xor_bit)\n",
    "    \n",
    "    return ''.join(resultado)\n",
    "\n",
    "if __name__ == \"__main__\":\n",
    "    bin1 = \"1010\"\n",
    "    bin2 = \"1100\"\n",
    "    resultado = xor_binary(bin1, bin2)\n",
    "    print(f\"Binario1 : {bin1}\")\n",
    "    print(f\"Binario2 : {bin2}\")\n",
    "    print(f\"XOR      : {resultado}\")\n"
   ]
  },
  {
   "cell_type": "markdown",
   "metadata": {},
   "source": [
    "#### **Realizar la creación de un script que permita generar llaves dinámicas (utilizar ASCII)**"
   ]
  },
  {
   "cell_type": "code",
   "execution_count": 11,
   "metadata": {},
   "outputs": [
    {
     "name": "stdout",
     "output_type": "stream",
     "text": [
      "Llave generada (10 caracteres): \"qtfM-J?HQ\n"
     ]
    }
   ],
   "source": [
    "import random\n",
    "import string\n",
    "\n",
    "def generate_dynamic_key(length=16):\n",
    "    \"\"\"\n",
    "    Genera una llave alfanumérica (ASCII) de longitud 'length'.\n",
    "    \"\"\"\n",
    "    caracteres = string.ascii_letters + string.digits + string.punctuation\n",
    "    key = ''.join(random.choice(caracteres) for _ in range(length))\n",
    "    return key\n",
    "\n",
    "if __name__ == \"__main__\":\n",
    "    # Genera una llave de longitud 10, por ejemplo\n",
    "    llave = generate_dynamic_key(10)\n",
    "    print(f\"Llave generada (10 caracteres): {llave}\")\n"
   ]
  },
  {
   "cell_type": "markdown",
   "metadata": {},
   "source": [
    "#### **Realizar la creación de un script que generar un nuevo cypher en ASCII con una llave k de tamaño fijo**"
   ]
  },
  {
   "cell_type": "code",
   "execution_count": 12,
   "metadata": {},
   "outputs": [
    {
     "name": "stdout",
     "output_type": "stream",
     "text": [
      "Texto Original : hola\n",
      "Texto Cifrado  : )-/ \n",
      "Texto Descifrado: hola\n"
     ]
    }
   ],
   "source": [
    "from bin_to_ascii import binary_to_ascii\n",
    "from ascii_to_bin import ascii_to_bin\n",
    "from xor import xor_binary\n",
    "\n",
    "def ascii_to_bin_key(key, length):\n",
    "    \"\"\"\n",
    "    Convierte la llave ASCII a binario y la repite o trunca para igualar 'length' bits.\n",
    "    Asume que 'length' es múltiplo de 8.\n",
    "    \"\"\"\n",
    "    # Convierte la llave completa a binario\n",
    "    key_bin_full = ''.join(format(ord(c), '08b') for c in key)\n",
    "    \n",
    "    # Repite la llave hasta alcanzar 'length' bits (o la trunca si es más larga)\n",
    "    repeated_key = (key_bin_full * ((length // len(key_bin_full)) + 1))[:length]\n",
    "    return repeated_key\n",
    "\n",
    "def cipher_with_fixed_key(text, key):\n",
    "    \"\"\"\n",
    "    Cifra un texto ASCII usando una llave ASCII de tamaño fijo.\n",
    "    \"\"\"\n",
    "    text_bin = ascii_to_bin(text)\n",
    "    \n",
    "    text_len = len(text_bin)\n",
    "    \n",
    "    # 3. Ajustar llave binaria a la longitud del texto\n",
    "    key_bin = ascii_to_bin_key(key, text_len)\n",
    "    cipher_bin = xor_binary(text_bin, key_bin)\n",
    "    \n",
    "    cipher_ascii = binary_to_ascii(cipher_bin)\n",
    "    return cipher_ascii\n",
    "\n",
    "if __name__ == \"__main__\":\n",
    "    texto_original = \"hola\"\n",
    "    llave_fija = \"ABC\"  # Llave ASCII de tamaño fijo \n",
    "    \n",
    "    cifrado = cipher_with_fixed_key(texto_original, llave_fija)\n",
    "    print(f\"Texto Original : {texto_original}\")\n",
    "    print(f\"Texto Cifrado  : {cifrado}\")\n",
    "    \n",
    "    # Descifrado (se usa la misma función con la misma llave, ya que XOR es reversible)\n",
    "    descifrado = cipher_with_fixed_key(cifrado, llave_fija)\n",
    "    print(f\"Texto Descifrado: {descifrado}\")\n"
   ]
  },
  {
   "cell_type": "markdown",
   "metadata": {},
   "source": [
    "#### **Realizar la creación de un script que generar un nuevo cypher en ASCII con una llave k de tamaño dinámico**"
   ]
  },
  {
   "cell_type": "code",
   "execution_count": 13,
   "metadata": {},
   "outputs": [
    {
     "name": "stdout",
     "output_type": "stream",
     "text": [
      "Texto Original : hola\n",
      "Texto Cifrado  : \u000e#P<\n",
      "Llave Usada    : fL<]\n",
      "Texto Descifrado: hola\n"
     ]
    }
   ],
   "source": [
    "from bin_to_ascii import binary_to_ascii\n",
    "from ascii_to_bin import ascii_to_bin\n",
    "from xor import xor_binary\n",
    "from generate_dynamic_key import generate_dynamic_key\n",
    "\n",
    "def cipher_with_dynamic_key(text):\n",
    "    \"\"\"\n",
    "    Cifra un texto ASCII usando una llave ASCII de la misma longitud (en caracteres).\n",
    "    Retorna la tupla (texto_cifrado, llave_usada).\n",
    "    \"\"\"\n",
    "    # Generar llave de la misma longitud en caracteres que el texto\n",
    "    key = generate_dynamic_key(len(text))\n",
    "    \n",
    "    # Convertir ambos a binario\n",
    "    text_bin = ascii_to_bin(text)\n",
    "    key_bin = ascii_to_bin(key)\n",
    "    # XOR\n",
    "    cipher_bin = xor_binary(text_bin, key_bin)\n",
    "    \n",
    "    # Convertir binario a ASCII\n",
    "    cipher_ascii = binary_to_ascii(cipher_bin)\n",
    "    \n",
    "    return cipher_ascii, key\n",
    "\n",
    "def decipher_with_dynamic_key(cipher_text, key):\n",
    "    \"\"\"\n",
    "    Descifra el texto cifrado usando la llave dinámica.\n",
    "    \"\"\"\n",
    "    cipher_bin = ascii_to_bin(cipher_text)\n",
    "    key_bin = ascii_to_bin(key)\n",
    "    original_bin = xor_binary(cipher_bin, key_bin)\n",
    "    original_text = binary_to_ascii(original_bin)\n",
    "    return original_text\n",
    "\n",
    "if __name__ == \"__main__\":\n",
    "    mensaje = \"hola\"\n",
    "    \n",
    "    # Cifrar\n",
    "    texto_cifrado, llave_usada = cipher_with_dynamic_key(mensaje)\n",
    "    print(f\"Texto Original : {mensaje}\")\n",
    "    print(f\"Texto Cifrado  : {texto_cifrado}\")\n",
    "    print(f\"Llave Usada    : {llave_usada}\")\n",
    "    \n",
    "    # Descifrar\n",
    "    texto_descifrado = decipher_with_dynamic_key(texto_cifrado, llave_usada)\n",
    "    print(f\"Texto Descifrado: {texto_descifrado}\")\n"
   ]
  }
 ],
 "metadata": {
  "kernelspec": {
   "display_name": ".venv",
   "language": "python",
   "name": "python3"
  },
  "language_info": {
   "codemirror_mode": {
    "name": "ipython",
    "version": 3
   },
   "file_extension": ".py",
   "mimetype": "text/x-python",
   "name": "python",
   "nbconvert_exporter": "python",
   "pygments_lexer": "ipython3",
   "version": "3.13.2"
  }
 },
 "nbformat": 4,
 "nbformat_minor": 2
}
