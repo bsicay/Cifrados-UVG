{
 "cells": [
  {
   "cell_type": "markdown",
   "metadata": {},
   "source": [
    "### Universidad del Valle de Guatemala\n",
    "#### Brandon Ronaldo Sicay Cumes - 21757"
   ]
  },
  {
   "cell_type": "markdown",
   "metadata": {},
   "source": [
    "### **Generación una función cifrado y descifrado DES**"
   ]
  },
  {
   "cell_type": "code",
   "execution_count": 1,
   "metadata": {},
   "outputs": [],
   "source": [
    "from Crypto.Cipher import DES\n",
    "from Crypto.Random import get_random_bytes\n"
   ]
  },
  {
   "cell_type": "code",
   "execution_count": 10,
   "metadata": {},
   "outputs": [
    {
     "name": "stdout",
     "output_type": "stream",
     "text": [
      "Llave (hex): 47591c365c4f161f\n",
      "Texto cifrado (hex): f2506e45973415e66a55690a8a0d249e294ed2807b06b80d46819a9cd9d42709fbd6b4a24d0d24bd684ce6d2df9c285143d742c2a4ef5cd5fd8163f8eab6719395496757f737bee48a18b18d5448a9c08fbb5a93634de4d398e256452a771d097fc507ebb046d35c371841073fd2b04a49296701c0f3542f10c686224f96aef5e00af9a0722321e1c00fbedc79f4a6b2de2989034f6af99764e99ac0350fcd8aa307a9e35a05a4e85915aba640a3d6c3e4e540e85446e442674e93d1ed632e916b363ad82c807dddd38d16b89d04cd956687d49cf9751109089397e816924aa6174e7e3b7a978ff988981cd879e6a232595eb727562a9da47494c9909b0690868845772e9402737b0e16f6a0574ece12c6853f1189b404f2d810cc88335b86bf5e81ba4fb21e2c86e64d44474312982c19dfe5be2506cc144eafadceb1cfb5fbfa044516d24ef3074437d713a2077e1134580e725c390abb10c69932dc4e3704ed7c210a5b65876fd061f8d0ea3b643cde5eaa1018897672723ed861638b313f3766129f31d2bb6f3f14fbedb1d6441bf0a3c40e6213f50b59b00c7aaaadd39b687ca3625208ded8\n",
      "Mensaje descifrado: The DES block cipher is a 16-round Feistel network with a block length of\n",
      "64 bits and a key length of 56 bits. The same round function ˆ f is used in each\n",
      "of the 16 rounds. The round function takes a 48-bit sub-key and, as expected\n",
      "for a (balanced) Feistel network, a 32-bit input (namely, half a block). The\n",
      "key schedule of DES is used to derive a sequence of 48-bit sub-keys k1, . . . , k16\n",
      "from the 56-bit master key.\n"
     ]
    }
   ],
   "source": [
    "from Crypto.Cipher import DES\n",
    "from Crypto.Random import get_random_bytes\n",
    "\n",
    "BLOCK_SIZE = 8 \n",
    "\n",
    "def pad(data: bytes) -> bytes:\n",
    "    \"\"\"\n",
    "    Rellena los datos para que su longitud sea múltiplo del tamaño de bloque.\n",
    "    Se utiliza el esquema PKCS#5: se añade N bytes de valor N.\n",
    "    \"\"\"\n",
    "    padding_len = BLOCK_SIZE - (len(data) % BLOCK_SIZE)\n",
    "    return data + bytes([padding_len] * padding_len)\n",
    "\n",
    "def unpad(data: bytes) -> bytes:\n",
    "    \"\"\"\n",
    "    Elimina el relleno aplicado con PKCS#5.\n",
    "    \"\"\"\n",
    "    padding_len = data[-1]\n",
    "    if padding_len < 1 or padding_len > BLOCK_SIZE:\n",
    "        raise ValueError(\"Error en el relleno.\")\n",
    "    return data[:-padding_len]\n",
    "\n",
    "def generate_random_des_key() -> bytes:\n",
    "    \"\"\"\n",
    "    Genera una llave aleatoria para DES (8 bytes).\n",
    "    \"\"\"\n",
    "    return get_random_bytes(8)\n",
    "\n",
    "def des_encrypt(plaintext: str) -> (bytes, bytes):\n",
    "    \"\"\"\n",
    "    Cifra un mensaje en texto plano utilizando DES en modo ECB.\n",
    "    Retorna la llave y el mensaje cifrado.\n",
    "    \"\"\"\n",
    "    key = generate_random_des_key()\n",
    "    cipher = DES.new(key, DES.MODE_ECB)\n",
    "    # Convertir el mensaje a bytes y aplicarle padding\n",
    "    data = plaintext.encode('utf-8')\n",
    "    padded_data = pad(data)\n",
    "    ciphertext = cipher.encrypt(padded_data)\n",
    "    return key, ciphertext\n",
    "\n",
    "def des_decrypt(key: bytes, ciphertext: bytes) -> str:\n",
    "    \"\"\"\n",
    "    Descifra el mensaje cifrado usando DES en modo ECB con la llave proporcionada.\n",
    "    \"\"\"\n",
    "    cipher = DES.new(key, DES.MODE_ECB)\n",
    "    padded_data = cipher.decrypt(ciphertext)\n",
    "    data = unpad(padded_data)\n",
    "    return data.decode('utf-8')\n",
    "\n",
    "\n",
    "\n",
    "\n",
    "\n",
    "with open('text/des.txt', 'r', encoding='utf-8') as file:\n",
    "    message = file.read()\n",
    "\n",
    "\n",
    "# Cifrar\n",
    "key, ciphertext = des_encrypt(message)\n",
    "print(\"Llave (hex):\", key.hex())\n",
    "print(\"Texto cifrado (hex):\", ciphertext.hex())\n",
    "\n",
    "# Descifrar\n",
    "mensaje_descifrado = des_decrypt(key, ciphertext)\n",
    "print(\"Mensaje descifrado:\", mensaje_descifrado)\n"
   ]
  }
 ],
 "metadata": {
  "kernelspec": {
   "display_name": ".venv",
   "language": "python",
   "name": "python3"
  },
  "language_info": {
   "codemirror_mode": {
    "name": "ipython",
    "version": 3
   },
   "file_extension": ".py",
   "mimetype": "text/x-python",
   "name": "python",
   "nbconvert_exporter": "python",
   "pygments_lexer": "ipython3",
   "version": "3.13.2"
  }
 },
 "nbformat": 4,
 "nbformat_minor": 2
}
