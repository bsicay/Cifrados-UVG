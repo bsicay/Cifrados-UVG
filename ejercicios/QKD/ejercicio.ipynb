{
 "cells": [
  {
   "cell_type": "markdown",
   "id": "ec09b0cd",
   "metadata": {},
   "source": [
    "### Universidad del Valle de Guatemala\n",
    "#### Brandon Ronaldo Sicay Cumes - 21757\n",
    "##### EJERCICIO QKD\n",
    "\n",
    "\n",
    "Chat utilizado https://chatgpt.com/c/679043bd-6990-800f-8b61-e48f1ddf\n"
   ]
  },
  {
   "cell_type": "code",
   "execution_count": 7,
   "id": "b7774e6b",
   "metadata": {},
   "outputs": [
    {
     "name": "stdout",
     "output_type": "stream",
     "text": [
      "N°  Alice Bit  Base A Fotón (bit)  Base B Bob Bit  Bases?  Usar? \n",
      "--------------------------------------------------------------\n",
      "1   0          ↗      0            ↕      0        no      no    \n",
      "2   1          ↕      1            ↕      1        sí      sí    \n",
      "3   0          ↕      0            ↗      0        no      no    \n",
      "4   1          ↗      1            ↗      1        sí      sí    \n",
      "5   0          ↗      0            ↕      0        no      no    \n",
      "6   1          ↗      1            ↗      1        sí      sí    \n",
      "7   0          ↕      0            ↕      0        sí      sí    \n",
      "8   0          ↗      0            ↗      0        sí      sí    \n",
      "9   1          ↕      1            ↗      0        no      no    \n",
      "10  1          ↕      1            ↗      1        no      no    \n",
      "11  1          ↗      1            ↕      0        no      no    \n",
      "12  1          ↕      1            ↕      1        sí      sí    \n",
      "13  0          ↕      0            ↕      0        sí      sí    \n",
      "14  1          ↕      1            ↗      1        no      no    \n",
      "15  0          ↕      0            ↕      0        sí      sí    \n"
     ]
    }
   ],
   "source": [
    "import random\n",
    "\n",
    "# def simulate_bb84(num_bits=15):\n",
    "# símbolos para imprimir\n",
    "num_bits = 15\n",
    "base_symbols = {'rect': '↕', 'diag': '↗'}\n",
    "\n",
    "# 1. Generar aleatoriamente bits y bases de Alice y bases de Bob\n",
    "alice_bits   = [random.randint(0, 1) for _ in range(num_bits)]\n",
    "alice_bases  = [random.choice(['rect', 'diag']) for _ in range(num_bits)]\n",
    "bob_bases    = [random.choice(['rect', 'diag']) for _ in range(num_bits)]\n",
    "\n",
    "# 2. Para cada posición, Bob mide:\n",
    "bob_bits     = []\n",
    "bases_match  = []\n",
    "use_bit      = []\n",
    "for a_bit, a_base, b_base in zip(alice_bits, alice_bases, bob_bases):\n",
    "    if a_base == b_base:\n",
    "        # misma base → Bob obtiene el bit correcto\n",
    "        b_bit = a_bit\n",
    "    else:\n",
    "        # distinta base → resultado totalmente aleatorio\n",
    "        b_bit = random.randint(0, 1)\n",
    "    bob_bits.append(b_bit)\n",
    "\n",
    "    match = (a_base == b_base)\n",
    "    bases_match.append(match)\n",
    "    use_bit.append(match)\n",
    "\n",
    "# 3. Construir la tabla\n",
    "print(f\"{'N°':<3} {'Alice Bit':<10} {'Base A':<6} {'Fotón (bit)':<12} {'Base B':<6} {'Bob Bit':<8} {'Bases?':<7} {'Usar?':<6}\")\n",
    "print(\"-\" * 62)\n",
    "for i in range(num_bits):\n",
    "    print(f\"{i+1:<3} {alice_bits[i]:<10} {base_symbols[alice_bases[i]]:<6} \"\n",
    "            f\"{alice_bits[i]:<12} {base_symbols[bob_bases[i]]:<6} {bob_bits[i]:<8} \"\n",
    "            f\"{'sí' if bases_match[i] else 'no':<7} {'sí' if use_bit[i] else 'no':<6}\")\n",
    "\n"
   ]
  },
  {
   "cell_type": "markdown",
   "id": "ed4dfe9e",
   "metadata": {},
   "source": [
    "## **Preguntas de análisis:**\n"
   ]
  },
  {
   "cell_type": "markdown",
   "id": "4407fdbe",
   "metadata": {},
   "source": [
    "### **¿Cuántos bits finales obtuvieron de la clave?:**"
   ]
  },
  {
   "cell_type": "code",
   "execution_count": 16,
   "id": "252636c5",
   "metadata": {},
   "outputs": [
    {
     "name": "stdout",
     "output_type": "stream",
     "text": [
      "Número de bits obtenidos para de clave: 8\n"
     ]
    }
   ],
   "source": [
    "\n",
    "total_bits = bases_match.count(True)\n",
    "print(f\"Número de bits obtenidos para de clave: {total_bits}\")"
   ]
  },
  {
   "cell_type": "markdown",
   "id": "7fc8c1bd",
   "metadata": {},
   "source": [
    "### **¿Qué porcentaje representa respecto al total?:**"
   ]
  },
  {
   "cell_type": "code",
   "execution_count": 24,
   "id": "78260a50",
   "metadata": {},
   "outputs": [
    {
     "name": "stdout",
     "output_type": "stream",
     "text": [
      "Porcentaje que representan los bits finales respecto al total: 53.3\n"
     ]
    }
   ],
   "source": [
    "percentage =  (total_bits  / num_bits)*100\n",
    "print(f\"Porcentaje que representan los bits finales respecto al total: {percentage:.1f}\")\n",
    " "
   ]
  },
  {
   "cell_type": "markdown",
   "id": "66cdc1e4",
   "metadata": {},
   "source": [
    "### **¿Qué pasaría si Eve interceptara los fotones y usara bases incorrectas?:**"
   ]
  },
  {
   "cell_type": "markdown",
   "id": "30c4f17c",
   "metadata": {},
   "source": [
    "- Cada vez que Eve mide en la base equivocada, obtiene un bit aleatorio.\n",
    "\n",
    "- Al reenviar el fotón a Bob, éste medirá un bit que con probabilidad 50% difiere del original de Alice.\n",
    "\n",
    "- Por tanto, la tasa de error (discrepancias) entre Alice y Bob aumenta notablemente."
   ]
  },
  {
   "cell_type": "markdown",
   "id": "99c3976e",
   "metadata": {},
   "source": [
    "### **¿Cómo se puede detectar su presencia?:**"
   ]
  },
  {
   "cell_type": "markdown",
   "id": "a1194df5",
   "metadata": {},
   "source": [
    "Después de la transmisión, Alice y Bob publican (por un canal clásico) un subconjunto pequeño de los bits de su clave provisional y comparan resultados.\n",
    "\n",
    "- Si la tasa de errores (bits distintos) supera el umbral esperado (~25% en ausencia de ruido), deducen que alguien (Eve) ha intervenido.\n",
    "\n",
    "- En ese caso descartan la clave y repiten el protocolo."
   ]
  },
  {
   "cell_type": "markdown",
   "id": "c43f7426",
   "metadata": {},
   "source": [
    "### **¿Qué ventajas y desventajas tiene este protocolo frente a otros cifrados tradicionales?:**\n"
   ]
  },
  {
   "cell_type": "markdown",
   "id": "5beb3d86",
   "metadata": {},
   "source": [
    "| Aspecto                 | Ventajas                                                                                                             | Desventajas                                                                                                       |\n",
    "| ----------------------- | -------------------------------------------------------------------------------------------------------------------- | ----------------------------------------------------------------------------------------------------------------- |\n",
    "| **Seguridad**           | Seguridad basada en leyes de la mecánica cuántica: cualquier intento de espionaje introduce errores detectables.     |                                                                                                                   |\n",
    "| **Detección de Eve**    | Permite detectar intrusos en tiempo real al medir la tasa de errores.                                                |                                                                                                                   |\n",
    "| **Clave incondicional** | Ofrece seguridad teóricamente incondicional sin depender de la dificultad computacional (a diferencia de RSA o AES). |                                                                                                                   |\n",
    "| **Implementación**      | —                                                                                                                    | Requiere hardware cuántico (fuentes de fotones individuales, detectores, canal cuántico), muy costoso y complejo. |\n",
    "| **Distancia**           | —                                                                                                                    | Limitado por pérdidas en la fibra o el canal libre; sin repetidores cuánticos la distancia efectiva es corta.     |\n",
    "| **Tasa de clave**       | —                                                                                                                    | Genera clave a velocidades mucho más bajas que los cifrados clásicos en software.                                 |\n"
   ]
  },
  {
   "cell_type": "markdown",
   "id": "04719a5f",
   "metadata": {},
   "source": [
    "### Referencias"
   ]
  },
  {
   "cell_type": "markdown",
   "id": "6a91df76",
   "metadata": {},
   "source": [
    "Scarani, V., Bechmann-Pasquinucci, H., Cerf, N. J., Dušek, M., Lütkenhaus, N., & Peev, M. (2009). The security of practical quantum key distribution. Reviews of modern physics, 81(3), 1301-1350.\n"
   ]
  }
 ],
 "metadata": {
  "kernelspec": {
   "display_name": ".venv",
   "language": "python",
   "name": "python3"
  },
  "language_info": {
   "codemirror_mode": {
    "name": "ipython",
    "version": 3
   },
   "file_extension": ".py",
   "mimetype": "text/x-python",
   "name": "python",
   "nbconvert_exporter": "python",
   "pygments_lexer": "ipython3",
   "version": "3.13.2"
  }
 },
 "nbformat": 4,
 "nbformat_minor": 5
}
