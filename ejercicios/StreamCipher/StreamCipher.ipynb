{
 "cells": [
  {
   "cell_type": "markdown",
   "metadata": {},
   "source": [
    "### Universidad del Valle de Guatemala\n",
    "#### Brandon Ronaldo Sicay Cumes - 21757\n",
    "##### Ejercicio Stream Cipher"
   ]
  },
  {
   "cell_type": "markdown",
   "metadata": {},
   "source": [
    "### **1. Generación de Keystream**"
   ]
  },
  {
   "cell_type": "code",
   "execution_count": 1,
   "metadata": {},
   "outputs": [],
   "source": [
    "import random\n",
    "\n",
    "def generate_keystream(seed, length):\n",
    "    \"\"\"\n",
    "    Genera un keystream de `length` bytes utilizando un PRNG simple de Python.\n",
    "    \n",
    "    Parámetros:\n",
    "    -----------\n",
    "    - seed (int/str/bytes): Valor para inicializar la semilla del PRNG.\n",
    "    - length (int): Longitud en bytes del keystream que se desea generar.\n",
    "    \n",
    "    Retorna:\n",
    "    --------\n",
    "    - bytes: Keystream pseudoaleatorio de tamaño 'length'.\n",
    "    \"\"\"\n",
    "    # Fijamos la semilla del PRNG\n",
    "    # Si 'seed' es str o bytes, podríamos convertirlo a int o usar un hash, según convenga.\n",
    "    if isinstance(seed, (str, bytes)):\n",
    "        # Simplemente convertimos cada carácter a su valor ordinal y sumamos (ejemplo muy básico)\n",
    "        seed = sum(bytearray(str(seed), 'utf-8'))\n",
    "    \n",
    "    random.seed(seed)\n",
    "    \n",
    "    # Generamos 'length' bytes pseudoaleatorios\n",
    "    keystream = bytes(random.getrandbits(8) for _ in range(length))\n",
    "    return keystream\n"
   ]
  },
  {
   "cell_type": "markdown",
   "metadata": {},
   "source": [
    "### **Cifrado mediante XOR**"
   ]
  },
  {
   "cell_type": "code",
   "execution_count": 3,
   "metadata": {},
   "outputs": [],
   "source": [
    "def xor_encrypt(plaintext, keystream):\n",
    "    \"\"\"\n",
    "    Cifra (o descifra) el 'plaintext' usando XOR con el keystream.\n",
    "    \n",
    "    Parámetros:\n",
    "    -----------\n",
    "    - plaintext (bytes): Datos a cifrar en formato bytes.\n",
    "    - keystream (bytes): Keystream de igual o mayor longitud que el plaintext.\n",
    "    \n",
    "    Retorna:\n",
    "    --------\n",
    "    - bytes: Resultado de la operación XOR entre plaintext y keystream.\n",
    "    \"\"\"\n",
    "    # IMPORTANTE: asume que 'len(keystream) >= len(plaintext)'\n",
    "    return bytes(p ^ k for p, k in zip(plaintext, keystream))\n"
   ]
  },
  {
   "cell_type": "markdown",
   "metadata": {},
   "source": [
    "### **2. Cifrado**"
   ]
  },
  {
   "cell_type": "code",
   "execution_count": 5,
   "metadata": {},
   "outputs": [
    {
     "name": "stdout",
     "output_type": "stream",
     "text": [
      "Mensaje cifrado (en hex): 567dfad61f3c8fe1d98e20a7e569d6e442ae6ce9bbaca4621c31\n"
     ]
    }
   ],
   "source": [
    "    # Mensaje original en bytes (ej. texto en UTF-8)\n",
    "    mensaje_original = \"Este es mi mensaje secreto\".encode('utf-8')\n",
    "    \n",
    "    # Semilla (key/nonce) para el PRNG\n",
    "    seed = \"mi-clave-secreta\"\n",
    "    \n",
    "    # Generamos keystream del mismo tamaño que el mensaje (o más)\n",
    "    keystream = generate_keystream(seed, length=len(mensaje_original))\n",
    "    \n",
    "    # Ciframos\n",
    "    mensaje_cifrado = xor_encrypt(mensaje_original, keystream)\n",
    "    print(\"Mensaje cifrado (en hex):\", mensaje_cifrado.hex())\n",
    "    \n",
    "    "
   ]
  },
  {
   "cell_type": "markdown",
   "metadata": {},
   "source": [
    "### **3. Descifrado**"
   ]
  },
  {
   "cell_type": "code",
   "execution_count": 7,
   "metadata": {},
   "outputs": [
    {
     "name": "stdout",
     "output_type": "stream",
     "text": [
      "Mensaje descifrado: Este es mi mensaje secreto\n"
     ]
    }
   ],
   "source": [
    "# Desciframos (reutilizando la misma keystream)\n",
    "mensaje_descifrado = xor_encrypt(mensaje_cifrado, keystream)\n",
    "print(\"Mensaje descifrado:\", mensaje_descifrado.decode('utf-8'))"
   ]
  },
  {
   "cell_type": "markdown",
   "metadata": {},
   "source": [
    "### **4. Preguntas a Responder**\n",
    "\n"
   ]
  },
  {
   "cell_type": "code",
   "execution_count": null,
   "metadata": {},
   "outputs": [],
   "source": []
  }
 ],
 "metadata": {
  "kernelspec": {
   "display_name": ".venv",
   "language": "python",
   "name": "python3"
  },
  "language_info": {
   "codemirror_mode": {
    "name": "ipython",
    "version": 3
   },
   "file_extension": ".py",
   "mimetype": "text/x-python",
   "name": "python",
   "nbconvert_exporter": "python",
   "pygments_lexer": "ipython3",
   "version": "3.13.2"
  }
 },
 "nbformat": 4,
 "nbformat_minor": 2
}
